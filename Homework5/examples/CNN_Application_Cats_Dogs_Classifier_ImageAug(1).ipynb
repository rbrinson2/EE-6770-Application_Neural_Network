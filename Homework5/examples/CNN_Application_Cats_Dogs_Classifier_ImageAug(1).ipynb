{
 "cells": [
  {
   "cell_type": "markdown",
   "metadata": {},
   "source": [
    "# <center><font color=maroon>Image Classification Using CNN Model and Data Augmentation</font></center>\n"
   ]
  },
  {
   "cell_type": "markdown",
   "metadata": {},
   "source": [
    "### In this Notebook, a very powerful technique, `image augmentation`, is applied to help improve the CNN performance."
   ]
  },
  {
   "cell_type": "markdown",
   "metadata": {},
   "source": [
    "## The Cats & Dogs Dataset\n",
    "\n",
    "* #### You can download the photos folders from Kaggle: https://www.kaggle.com/c/dogs-vs-cats\n",
    "* #### Download train.zip and unzip the 25000 files and move them to a folder and make a note of the file path"
   ]
  },
  {
   "cell_type": "markdown",
   "metadata": {},
   "source": [
    "### Import Toolsets"
   ]
  },
  {
   "cell_type": "code",
   "execution_count": 3,
   "metadata": {},
   "outputs": [],
   "source": [
    "import os, itertools \n",
    "import time\n",
    "import random, shutil  # shutil is a utility for file system operations\n",
    "import numpy as np \n",
    "import pandas as pd \n",
    " \n",
    "import matplotlib.pyplot as plt \n",
    "%matplotlib inline"
   ]
  },
  {
   "cell_type": "markdown",
   "metadata": {},
   "source": [
    "### Import TensorFlow and Keras"
   ]
  },
  {
   "cell_type": "code",
   "execution_count": 4,
   "metadata": {},
   "outputs": [],
   "source": [
    "import tensorflow as tf\n",
    "from tensorflow import keras\n",
    "from keras import layers"
   ]
  },
  {
   "cell_type": "markdown",
   "metadata": {},
   "source": [
    "### Load CNN Modules"
   ]
  },
  {
   "cell_type": "code",
   "execution_count": 5,
   "metadata": {},
   "outputs": [],
   "source": [
    "from keras.models import Sequential\n",
    "from keras.layers import Dense\n",
    "from keras.layers import Conv2D\n",
    "from keras.layers import MaxPooling2D\n",
    "from keras.layers import Flatten\n",
    "from keras.layers import Dropout"
   ]
  },
  {
   "cell_type": "markdown",
   "metadata": {},
   "source": [
    "### Image Preprocessing tool"
   ]
  },
  {
   "cell_type": "code",
   "execution_count": 6,
   "metadata": {},
   "outputs": [],
   "source": [
    "from tensorflow.keras.preprocessing.image import load_img, img_to_array, ImageDataGenerator\n",
    "from tensorflow.keras.utils import image_dataset_from_directory"
   ]
  },
  {
   "cell_type": "markdown",
   "metadata": {},
   "source": [
    "<a name='1'></a>\n",
    "## <font color= blue> Load and Process the Dataset</font>"
   ]
  },
  {
   "cell_type": "markdown",
   "metadata": {},
   "source": [
    "### The data files are stored in the following sub-directory structure:\n",
    "<img src=\"./images/train_test_dir.png\" alt=\"Drawing\" style=\"width: 200px;\"/>"
   ]
  },
  {
   "cell_type": "markdown",
   "metadata": {},
   "source": [
    "### Use Keras ImageDataGenerator API to create image data pipeline, including `image augmentation`"
   ]
  },
  {
   "cell_type": "code",
   "execution_count": 20,
   "metadata": {},
   "outputs": [],
   "source": [
    "# The root data directory\n",
    "train_sub_path = './cat_dog_6000'"
   ]
  },
  {
   "cell_type": "code",
   "execution_count": 21,
   "metadata": {},
   "outputs": [],
   "source": [
    "# Create data generator w/ image augmentation\n",
    "\n",
    "datagen = ImageDataGenerator(\n",
    "           rescale=1.0/255.0,\n",
    "           rotation_range=15,\n",
    "           width_shift_range=0.1,\n",
    "           height_shift_range=0.1,\n",
    "           zoom_range=0.2,\n",
    "           horizontal_flip=True\n",
    ")\n",
    "\n",
    "val_datagen = ImageDataGenerator(rescale=1./255)"
   ]
  },
  {
   "cell_type": "code",
   "execution_count": 22,
   "metadata": {},
   "outputs": [
    {
     "name": "stdout",
     "output_type": "stream",
     "text": [
      "Found 3000 images belonging to 2 classes.\n",
      "Found 1000 images belonging to 2 classes.\n",
      "Found 2000 images belonging to 2 classes.\n"
     ]
    }
   ],
   "source": [
    "train_data = datagen.flow_from_directory(train_sub_path + '/train',\n",
    "            class_mode='binary', batch_size=64, target_size=(64, 64))\n",
    "\n",
    "val_data = val_datagen.flow_from_directory(train_sub_path + '/validation',\n",
    "           class_mode='binary', batch_size=64, target_size=(64, 64))\n",
    "\n",
    "test_data = val_datagen.flow_from_directory(train_sub_path + '/test',\n",
    "            class_mode='binary', batch_size=64, target_size=(64, 64))"
   ]
  },
  {
   "cell_type": "markdown",
   "metadata": {},
   "source": [
    "<a name='3'></a>\n",
    "## <font color= blue> Image Data Augmentation </font>"
   ]
  },
  {
   "cell_type": "markdown",
   "metadata": {},
   "source": [
    "<a name='3-1'></a>\n",
    "### <font color=blue> Define the CNN Model (VGG-5) </font> "
   ]
  },
  {
   "cell_type": "code",
   "execution_count": 10,
   "metadata": {},
   "outputs": [],
   "source": [
    "model = Sequential()\n",
    "\n",
    "# Layer 1\n",
    "model.add(Conv2D(32, (3, 3), activation='relu', input_shape=(64, 64, 3)))\n",
    "model.add(MaxPooling2D((2, 2)))\n",
    "\n",
    "# Layer 2\n",
    "model.add(Conv2D(64, (3, 3), activation='relu'))\n",
    "model.add(MaxPooling2D((2, 2)))\n",
    "\n",
    "# Layer 3\n",
    "model.add(Conv2D(128, (3, 3), activation='relu'))\n",
    "model.add(MaxPooling2D((2, 2)))\n",
    "\n",
    "model.add(Flatten())\n",
    "\n",
    "# FC Layers\n",
    "model.add(Dense(128, activation='relu'))\n",
    "#model.add(Dropout(0.5))\n",
    "model.add(Dense(1, activation='sigmoid'))"
   ]
  },
  {
   "cell_type": "code",
   "execution_count": 11,
   "metadata": {},
   "outputs": [
    {
     "name": "stdout",
     "output_type": "stream",
     "text": [
      "Model: \"sequential_1\"\n",
      "_________________________________________________________________\n",
      " Layer (type)                Output Shape              Param #   \n",
      "=================================================================\n",
      " conv2d (Conv2D)             (None, 62, 62, 32)        896       \n",
      "                                                                 \n",
      " max_pooling2d (MaxPooling2D  (None, 31, 31, 32)       0         \n",
      " )                                                               \n",
      "                                                                 \n",
      " conv2d_1 (Conv2D)           (None, 29, 29, 64)        18496     \n",
      "                                                                 \n",
      " max_pooling2d_1 (MaxPooling  (None, 14, 14, 64)       0         \n",
      " 2D)                                                             \n",
      "                                                                 \n",
      " conv2d_2 (Conv2D)           (None, 12, 12, 128)       73856     \n",
      "                                                                 \n",
      " max_pooling2d_2 (MaxPooling  (None, 6, 6, 128)        0         \n",
      " 2D)                                                             \n",
      "                                                                 \n",
      " flatten (Flatten)           (None, 4608)              0         \n",
      "                                                                 \n",
      " dense (Dense)               (None, 128)               589952    \n",
      "                                                                 \n",
      " dense_1 (Dense)             (None, 1)                 129       \n",
      "                                                                 \n",
      "=================================================================\n",
      "Total params: 683,329\n",
      "Trainable params: 683,329\n",
      "Non-trainable params: 0\n",
      "_________________________________________________________________\n"
     ]
    }
   ],
   "source": [
    "model.summary()"
   ]
  },
  {
   "cell_type": "markdown",
   "metadata": {},
   "source": [
    "<a name='2-2'></a>\n",
    "### <font color=blue> Train and Fit and Model </font>"
   ]
  },
  {
   "cell_type": "code",
   "execution_count": 12,
   "metadata": {},
   "outputs": [
    {
     "name": "stdout",
     "output_type": "stream",
     "text": [
      "Epoch 1/100\n",
      "47/47 [==============================] - 10s 211ms/step - loss: 0.6890 - accuracy: 0.5463 - val_loss: 0.6779 - val_accuracy: 0.5530\n",
      "Epoch 2/100\n",
      "47/47 [==============================] - 10s 203ms/step - loss: 0.6673 - accuracy: 0.5863 - val_loss: 0.6940 - val_accuracy: 0.5810\n",
      "Epoch 3/100\n",
      "47/47 [==============================] - 10s 204ms/step - loss: 0.6103 - accuracy: 0.6640 - val_loss: 0.5994 - val_accuracy: 0.6890\n",
      "Epoch 4/100\n",
      "47/47 [==============================] - 10s 208ms/step - loss: 0.5937 - accuracy: 0.6860 - val_loss: 0.5930 - val_accuracy: 0.6960\n",
      "Epoch 5/100\n",
      "47/47 [==============================] - 9s 200ms/step - loss: 0.5817 - accuracy: 0.7017 - val_loss: 0.6201 - val_accuracy: 0.6850\n",
      "Epoch 6/100\n",
      "47/47 [==============================] - 9s 201ms/step - loss: 0.5511 - accuracy: 0.7183 - val_loss: 0.7353 - val_accuracy: 0.6120\n",
      "Epoch 7/100\n",
      "47/47 [==============================] - 9s 200ms/step - loss: 0.5463 - accuracy: 0.7207 - val_loss: 0.5644 - val_accuracy: 0.7260\n",
      "Epoch 8/100\n",
      "47/47 [==============================] - 10s 201ms/step - loss: 0.5508 - accuracy: 0.7207 - val_loss: 0.5406 - val_accuracy: 0.7310\n",
      "Epoch 9/100\n",
      "47/47 [==============================] - 9s 200ms/step - loss: 0.5145 - accuracy: 0.7493 - val_loss: 0.7171 - val_accuracy: 0.6650\n",
      "Epoch 10/100\n",
      "47/47 [==============================] - 9s 199ms/step - loss: 0.5337 - accuracy: 0.7353 - val_loss: 0.5606 - val_accuracy: 0.7290\n",
      "Epoch 11/100\n",
      "47/47 [==============================] - 10s 202ms/step - loss: 0.4947 - accuracy: 0.7550 - val_loss: 0.5493 - val_accuracy: 0.7360\n",
      "Epoch 12/100\n",
      "47/47 [==============================] - 9s 200ms/step - loss: 0.4982 - accuracy: 0.7603 - val_loss: 0.5134 - val_accuracy: 0.7590\n",
      "Epoch 13/100\n",
      "47/47 [==============================] - 10s 203ms/step - loss: 0.4701 - accuracy: 0.7770 - val_loss: 0.4927 - val_accuracy: 0.7610\n",
      "Epoch 14/100\n",
      "47/47 [==============================] - 10s 202ms/step - loss: 0.4624 - accuracy: 0.7823 - val_loss: 0.5321 - val_accuracy: 0.7590\n",
      "Epoch 15/100\n",
      "47/47 [==============================] - 10s 202ms/step - loss: 0.4599 - accuracy: 0.7760 - val_loss: 0.4856 - val_accuracy: 0.7820\n",
      "Epoch 16/100\n",
      "47/47 [==============================] - 9s 199ms/step - loss: 0.4482 - accuracy: 0.7903 - val_loss: 0.5025 - val_accuracy: 0.7710\n",
      "Epoch 17/100\n",
      "47/47 [==============================] - 9s 199ms/step - loss: 0.4421 - accuracy: 0.7947 - val_loss: 0.4598 - val_accuracy: 0.7930\n",
      "Epoch 18/100\n",
      "47/47 [==============================] - 10s 206ms/step - loss: 0.4271 - accuracy: 0.7960 - val_loss: 0.4901 - val_accuracy: 0.7730\n",
      "Epoch 19/100\n",
      "47/47 [==============================] - 9s 200ms/step - loss: 0.4394 - accuracy: 0.7920 - val_loss: 0.4762 - val_accuracy: 0.7890\n",
      "Epoch 20/100\n",
      "47/47 [==============================] - 10s 214ms/step - loss: 0.4218 - accuracy: 0.8047 - val_loss: 0.4696 - val_accuracy: 0.7950\n",
      "Epoch 21/100\n",
      "47/47 [==============================] - 11s 224ms/step - loss: 0.4171 - accuracy: 0.8110 - val_loss: 0.4638 - val_accuracy: 0.7920\n",
      "Epoch 22/100\n",
      "47/47 [==============================] - 9s 200ms/step - loss: 0.4048 - accuracy: 0.8157 - val_loss: 0.4759 - val_accuracy: 0.7900\n",
      "Epoch 23/100\n",
      "47/47 [==============================] - 10s 201ms/step - loss: 0.3968 - accuracy: 0.8133 - val_loss: 0.4872 - val_accuracy: 0.7990\n",
      "Epoch 24/100\n",
      "47/47 [==============================] - 10s 202ms/step - loss: 0.3866 - accuracy: 0.8210 - val_loss: 0.4809 - val_accuracy: 0.7900\n",
      "Epoch 25/100\n",
      "47/47 [==============================] - 10s 203ms/step - loss: 0.3933 - accuracy: 0.8153 - val_loss: 0.4414 - val_accuracy: 0.7950\n",
      "Epoch 26/100\n",
      "47/47 [==============================] - 9s 201ms/step - loss: 0.3615 - accuracy: 0.8390 - val_loss: 0.4559 - val_accuracy: 0.8030\n",
      "Epoch 27/100\n",
      "47/47 [==============================] - 10s 202ms/step - loss: 0.3904 - accuracy: 0.8150 - val_loss: 0.4684 - val_accuracy: 0.7970\n",
      "Epoch 28/100\n",
      "47/47 [==============================] - 9s 199ms/step - loss: 0.3615 - accuracy: 0.8347 - val_loss: 0.4415 - val_accuracy: 0.8010\n",
      "Epoch 29/100\n",
      "47/47 [==============================] - 10s 201ms/step - loss: 0.3558 - accuracy: 0.8367 - val_loss: 0.4353 - val_accuracy: 0.8060\n",
      "Epoch 30/100\n",
      "47/47 [==============================] - 9s 197ms/step - loss: 0.3525 - accuracy: 0.8463 - val_loss: 0.4247 - val_accuracy: 0.8150\n",
      "Epoch 31/100\n",
      "47/47 [==============================] - 9s 198ms/step - loss: 0.3554 - accuracy: 0.8380 - val_loss: 0.4749 - val_accuracy: 0.8000\n",
      "Epoch 32/100\n",
      "47/47 [==============================] - 9s 201ms/step - loss: 0.3589 - accuracy: 0.8340 - val_loss: 0.5355 - val_accuracy: 0.7730\n",
      "Epoch 33/100\n",
      "47/47 [==============================] - 9s 201ms/step - loss: 0.3345 - accuracy: 0.8577 - val_loss: 0.4541 - val_accuracy: 0.8020\n",
      "Epoch 34/100\n",
      "47/47 [==============================] - 10s 202ms/step - loss: 0.3487 - accuracy: 0.8437 - val_loss: 0.4335 - val_accuracy: 0.8090\n",
      "Epoch 35/100\n",
      "47/47 [==============================] - 9s 199ms/step - loss: 0.3361 - accuracy: 0.8520 - val_loss: 0.4494 - val_accuracy: 0.8050\n",
      "Epoch 36/100\n",
      "47/47 [==============================] - 9s 198ms/step - loss: 0.3336 - accuracy: 0.8490 - val_loss: 0.5914 - val_accuracy: 0.7790\n",
      "Epoch 37/100\n",
      "47/47 [==============================] - 9s 200ms/step - loss: 0.3377 - accuracy: 0.8533 - val_loss: 0.5279 - val_accuracy: 0.7920\n",
      "Epoch 38/100\n",
      "47/47 [==============================] - 10s 201ms/step - loss: 0.3215 - accuracy: 0.8623 - val_loss: 0.4796 - val_accuracy: 0.8080\n",
      "Epoch 39/100\n",
      "47/47 [==============================] - 9s 199ms/step - loss: 0.2965 - accuracy: 0.8730 - val_loss: 0.4372 - val_accuracy: 0.8120\n",
      "Epoch 40/100\n",
      "47/47 [==============================] - 10s 203ms/step - loss: 0.2995 - accuracy: 0.8693 - val_loss: 0.6312 - val_accuracy: 0.7790\n",
      "Epoch 41/100\n",
      "47/47 [==============================] - 10s 202ms/step - loss: 0.3106 - accuracy: 0.8597 - val_loss: 0.4653 - val_accuracy: 0.8050\n",
      "Epoch 42/100\n",
      "47/47 [==============================] - 10s 203ms/step - loss: 0.3028 - accuracy: 0.8710 - val_loss: 0.4549 - val_accuracy: 0.8190\n",
      "Epoch 43/100\n",
      "47/47 [==============================] - 10s 200ms/step - loss: 0.2777 - accuracy: 0.8840 - val_loss: 0.4247 - val_accuracy: 0.8260\n",
      "Epoch 44/100\n",
      "47/47 [==============================] - 9s 199ms/step - loss: 0.2931 - accuracy: 0.8717 - val_loss: 0.4426 - val_accuracy: 0.8190\n",
      "Epoch 45/100\n",
      "47/47 [==============================] - 9s 199ms/step - loss: 0.2866 - accuracy: 0.8783 - val_loss: 0.4252 - val_accuracy: 0.8220\n",
      "Epoch 46/100\n",
      "47/47 [==============================] - 9s 200ms/step - loss: 0.2875 - accuracy: 0.8740 - val_loss: 0.4711 - val_accuracy: 0.8050\n",
      "Epoch 47/100\n",
      "47/47 [==============================] - 10s 211ms/step - loss: 0.2830 - accuracy: 0.8747 - val_loss: 0.4570 - val_accuracy: 0.8170\n",
      "Epoch 48/100\n",
      "47/47 [==============================] - 10s 215ms/step - loss: 0.2731 - accuracy: 0.8770 - val_loss: 0.5271 - val_accuracy: 0.8040\n",
      "Epoch 49/100\n",
      "47/47 [==============================] - 10s 201ms/step - loss: 0.2729 - accuracy: 0.8813 - val_loss: 0.4142 - val_accuracy: 0.8340\n",
      "Epoch 50/100\n",
      "47/47 [==============================] - 9s 201ms/step - loss: 0.2656 - accuracy: 0.8920 - val_loss: 0.4447 - val_accuracy: 0.8230\n",
      "Epoch 51/100\n",
      "47/47 [==============================] - 10s 203ms/step - loss: 0.2672 - accuracy: 0.8857 - val_loss: 0.4155 - val_accuracy: 0.8260\n",
      "Epoch 52/100\n",
      "47/47 [==============================] - 10s 204ms/step - loss: 0.2581 - accuracy: 0.8907 - val_loss: 0.4603 - val_accuracy: 0.8180\n",
      "Epoch 53/100\n",
      "47/47 [==============================] - 10s 204ms/step - loss: 0.2583 - accuracy: 0.8933 - val_loss: 0.4240 - val_accuracy: 0.8240\n",
      "Epoch 54/100\n",
      "47/47 [==============================] - 9s 200ms/step - loss: 0.2514 - accuracy: 0.8933 - val_loss: 0.4396 - val_accuracy: 0.8300\n",
      "Epoch 55/100\n",
      "47/47 [==============================] - 9s 199ms/step - loss: 0.2515 - accuracy: 0.8927 - val_loss: 0.4363 - val_accuracy: 0.8340\n",
      "Epoch 56/100\n",
      "47/47 [==============================] - 9s 200ms/step - loss: 0.2602 - accuracy: 0.8903 - val_loss: 0.5746 - val_accuracy: 0.7910\n",
      "Epoch 57/100\n",
      "47/47 [==============================] - 9s 200ms/step - loss: 0.2766 - accuracy: 0.8727 - val_loss: 0.4300 - val_accuracy: 0.8230\n"
     ]
    },
    {
     "name": "stdout",
     "output_type": "stream",
     "text": [
      "Epoch 58/100\n",
      "47/47 [==============================] - 9s 199ms/step - loss: 0.2322 - accuracy: 0.9023 - val_loss: 0.4347 - val_accuracy: 0.8390\n",
      "Epoch 59/100\n",
      "47/47 [==============================] - 9s 200ms/step - loss: 0.2224 - accuracy: 0.9053 - val_loss: 0.4693 - val_accuracy: 0.8250\n",
      "Epoch 60/100\n",
      "47/47 [==============================] - 9s 200ms/step - loss: 0.2183 - accuracy: 0.8987 - val_loss: 0.4447 - val_accuracy: 0.8420\n",
      "Epoch 61/100\n",
      "47/47 [==============================] - 9s 200ms/step - loss: 0.2405 - accuracy: 0.8947 - val_loss: 0.5215 - val_accuracy: 0.8170\n",
      "Epoch 62/100\n",
      "47/47 [==============================] - 9s 200ms/step - loss: 0.2329 - accuracy: 0.8953 - val_loss: 0.4423 - val_accuracy: 0.8240\n",
      "Epoch 63/100\n",
      "47/47 [==============================] - 9s 200ms/step - loss: 0.2342 - accuracy: 0.9010 - val_loss: 0.5313 - val_accuracy: 0.8130\n",
      "Epoch 64/100\n",
      "47/47 [==============================] - 9s 199ms/step - loss: 0.2285 - accuracy: 0.9047 - val_loss: 0.4728 - val_accuracy: 0.8190\n",
      "Epoch 65/100\n",
      "47/47 [==============================] - 10s 203ms/step - loss: 0.2268 - accuracy: 0.8987 - val_loss: 0.4640 - val_accuracy: 0.8220\n",
      "Epoch 66/100\n",
      "47/47 [==============================] - 10s 201ms/step - loss: 0.2019 - accuracy: 0.9183 - val_loss: 0.5287 - val_accuracy: 0.8240\n",
      "Epoch 67/100\n",
      "47/47 [==============================] - 9s 200ms/step - loss: 0.2151 - accuracy: 0.9107 - val_loss: 0.4689 - val_accuracy: 0.8110\n",
      "Epoch 68/100\n",
      "47/47 [==============================] - 9s 198ms/step - loss: 0.2338 - accuracy: 0.8940 - val_loss: 0.5054 - val_accuracy: 0.8160\n",
      "Epoch 69/100\n",
      "47/47 [==============================] - 10s 201ms/step - loss: 0.1939 - accuracy: 0.9173 - val_loss: 0.5285 - val_accuracy: 0.8110\n",
      "Epoch 70/100\n",
      "47/47 [==============================] - 9s 199ms/step - loss: 0.2207 - accuracy: 0.9063 - val_loss: 0.5041 - val_accuracy: 0.8180\n",
      "Epoch 71/100\n",
      "47/47 [==============================] - 9s 199ms/step - loss: 0.1998 - accuracy: 0.9133 - val_loss: 0.4841 - val_accuracy: 0.8450\n",
      "Epoch 72/100\n",
      "47/47 [==============================] - 9s 199ms/step - loss: 0.1850 - accuracy: 0.9257 - val_loss: 0.5315 - val_accuracy: 0.8290\n",
      "Epoch 73/100\n",
      "47/47 [==============================] - 9s 199ms/step - loss: 0.1988 - accuracy: 0.9157 - val_loss: 0.4750 - val_accuracy: 0.8240\n",
      "Epoch 74/100\n",
      "47/47 [==============================] - 9s 200ms/step - loss: 0.1914 - accuracy: 0.9207 - val_loss: 0.5073 - val_accuracy: 0.8210\n",
      "Epoch 75/100\n",
      "47/47 [==============================] - 10s 201ms/step - loss: 0.1912 - accuracy: 0.9280 - val_loss: 0.5713 - val_accuracy: 0.8170\n",
      "Epoch 76/100\n",
      "47/47 [==============================] - 10s 202ms/step - loss: 0.1927 - accuracy: 0.9210 - val_loss: 0.4513 - val_accuracy: 0.8280\n",
      "Epoch 77/100\n",
      "47/47 [==============================] - 10s 203ms/step - loss: 0.1718 - accuracy: 0.9300 - val_loss: 0.5059 - val_accuracy: 0.8250\n",
      "Epoch 78/100\n",
      "47/47 [==============================] - 9s 199ms/step - loss: 0.1645 - accuracy: 0.9337 - val_loss: 0.4993 - val_accuracy: 0.8320\n",
      "Epoch 79/100\n",
      "47/47 [==============================] - 10s 201ms/step - loss: 0.1837 - accuracy: 0.9203 - val_loss: 0.5627 - val_accuracy: 0.8310\n",
      "Epoch 80/100\n",
      "47/47 [==============================] - 10s 201ms/step - loss: 0.1807 - accuracy: 0.9303 - val_loss: 0.4598 - val_accuracy: 0.8260\n",
      "Epoch 81/100\n",
      "47/47 [==============================] - 9s 200ms/step - loss: 0.1693 - accuracy: 0.9307 - val_loss: 0.5674 - val_accuracy: 0.8280\n",
      "Epoch 82/100\n",
      "47/47 [==============================] - 9s 200ms/step - loss: 0.1619 - accuracy: 0.9350 - val_loss: 0.5843 - val_accuracy: 0.8120\n",
      "Epoch 83/100\n",
      "47/47 [==============================] - 9s 200ms/step - loss: 0.1549 - accuracy: 0.9303 - val_loss: 0.5257 - val_accuracy: 0.8310\n",
      "Epoch 84/100\n",
      "47/47 [==============================] - 10s 204ms/step - loss: 0.1550 - accuracy: 0.9380 - val_loss: 0.5931 - val_accuracy: 0.8240\n",
      "Epoch 85/100\n",
      "47/47 [==============================] - 10s 201ms/step - loss: 0.1867 - accuracy: 0.9237 - val_loss: 0.5155 - val_accuracy: 0.8260\n",
      "Epoch 86/100\n",
      "47/47 [==============================] - 9s 201ms/step - loss: 0.1579 - accuracy: 0.9330 - val_loss: 0.5371 - val_accuracy: 0.8170\n",
      "Epoch 87/100\n",
      "47/47 [==============================] - 10s 215ms/step - loss: 0.1552 - accuracy: 0.9340 - val_loss: 0.5303 - val_accuracy: 0.8280\n",
      "Epoch 88/100\n",
      "47/47 [==============================] - 11s 236ms/step - loss: 0.1525 - accuracy: 0.9353 - val_loss: 0.5800 - val_accuracy: 0.8150\n",
      "Epoch 89/100\n",
      "47/47 [==============================] - 12s 247ms/step - loss: 0.1527 - accuracy: 0.9400 - val_loss: 0.5653 - val_accuracy: 0.8220\n",
      "Epoch 90/100\n",
      "47/47 [==============================] - 10s 206ms/step - loss: 0.1734 - accuracy: 0.9300 - val_loss: 0.4942 - val_accuracy: 0.8410\n",
      "Epoch 91/100\n",
      "47/47 [==============================] - 10s 207ms/step - loss: 0.1353 - accuracy: 0.9423 - val_loss: 0.5469 - val_accuracy: 0.8330\n",
      "Epoch 92/100\n",
      "47/47 [==============================] - 10s 208ms/step - loss: 0.1420 - accuracy: 0.9420 - val_loss: 0.5344 - val_accuracy: 0.8270\n",
      "Epoch 93/100\n",
      "47/47 [==============================] - 10s 208ms/step - loss: 0.1596 - accuracy: 0.9310 - val_loss: 0.6388 - val_accuracy: 0.8140\n",
      "Epoch 94/100\n",
      "47/47 [==============================] - 10s 204ms/step - loss: 0.1477 - accuracy: 0.9383 - val_loss: 0.5415 - val_accuracy: 0.8110\n",
      "Epoch 95/100\n",
      "47/47 [==============================] - 10s 216ms/step - loss: 0.1470 - accuracy: 0.9420 - val_loss: 0.5551 - val_accuracy: 0.8200\n",
      "Epoch 96/100\n",
      "47/47 [==============================] - 12s 255ms/step - loss: 0.1412 - accuracy: 0.9417 - val_loss: 0.5287 - val_accuracy: 0.8310\n",
      "Epoch 97/100\n",
      "47/47 [==============================] - 11s 232ms/step - loss: 0.1475 - accuracy: 0.9393 - val_loss: 0.5167 - val_accuracy: 0.8330\n",
      "Epoch 98/100\n",
      "47/47 [==============================] - 10s 221ms/step - loss: 0.1241 - accuracy: 0.9480 - val_loss: 0.5412 - val_accuracy: 0.8430\n",
      "Epoch 99/100\n",
      "47/47 [==============================] - 10s 210ms/step - loss: 0.1388 - accuracy: 0.9457 - val_loss: 0.5354 - val_accuracy: 0.8200\n",
      "Epoch 100/100\n",
      "47/47 [==============================] - 9s 197ms/step - loss: 0.1428 - accuracy: 0.9397 - val_loss: 0.5583 - val_accuracy: 0.8140\n"
     ]
    }
   ],
   "source": [
    "model.compile(optimizer = 'adam', loss = 'binary_crossentropy', metrics = ['accuracy'])\n",
    "\n",
    "history = model.fit(train_data, epochs=100, validation_data = val_data, verbose=1)"
   ]
  },
  {
   "cell_type": "markdown",
   "metadata": {},
   "source": [
    "### Compare Loss and Accuracy Performance for train and validation data"
   ]
  },
  {
   "cell_type": "code",
   "execution_count": 13,
   "metadata": {},
   "outputs": [
    {
     "data": {
      "image/png": "[encoded data removed]",
      "text/plain": [
       "<Figure size 720x504 with 1 Axes>"
      ]
     },
     "metadata": {
      "needs_background": "light"
     },
     "output_type": "display_data"
    }
   ],
   "source": [
    "J = history.history['loss']  # Loss data for Training \n",
    "J_val = history.history['val_loss']\n",
    "\n",
    "plt.figure(figsize=(10,7))\n",
    "\n",
    "plt.title('Model Loss Performance: Train vs. validation')\n",
    "plt.plot(J, color='DodgerBlue', label='Train')\n",
    "plt.plot(J_val, color='orange', label='Validation')\n",
    "\n",
    "plt.ylabel('Loss')\n",
    "plt.xlabel('Epoch')\n",
    "\n",
    "plt.legend()\n",
    "plt.grid()\n",
    "plt.show()"
   ]
  },
  {
   "cell_type": "code",
   "execution_count": 14,
   "metadata": {},
   "outputs": [
    {
     "data": {
      "image/png": "[encoded data removed]",
      "text/plain": [
       "<Figure size 720x504 with 1 Axes>"
      ]
     },
     "metadata": {
      "needs_background": "light"
     },
     "output_type": "display_data"
    }
   ],
   "source": [
    "accu = history.history['accuracy']  # Loss data for Training \n",
    "accu_val = history.history['val_accuracy']\n",
    "\n",
    "plt.figure(figsize=(10,7))\n",
    "\n",
    "plt.title('Model Accuracy Performance: Train vs. validation')\n",
    "plt.plot(accu, color='DodgerBlue', label='Train')\n",
    "plt.plot(accu_val, color='orange', label='Validation')\n",
    "\n",
    "plt.ylabel('Accuracy')\n",
    "plt.xlabel('Epoch')\n",
    "\n",
    "plt.legend()\n",
    "plt.grid()\n",
    "plt.show()"
   ]
  },
  {
   "cell_type": "markdown",
   "metadata": {},
   "source": [
    "#### <font color=maroon> Notice that the accuracy on train data continues to improve till it reaches 100%. </font>\n",
    "####  <font color=maroon>However, the accuracy on the validation data plateaus at `85% after 50 epoch`.</font>"
   ]
  },
  {
   "cell_type": "markdown",
   "metadata": {},
   "source": [
    "<a name='2-3'></a>\n",
    "### <font color=blue> Test and Evaluate the Model </font>"
   ]
  },
  {
   "cell_type": "code",
   "execution_count": 16,
   "metadata": {},
   "outputs": [
    {
     "name": "stdout",
     "output_type": "stream",
     "text": [
      "32/32 [==============================] - 3s 100ms/step - loss: 0.5874 - accuracy: 0.8080\n",
      "32/32 [==============================] - 3s 93ms/step\n"
     ]
    }
   ],
   "source": [
    "loss, accuracy = model.evaluate(test_data, verbose=1)\n",
    "\n",
    "y_pred = model.predict(test_data)"
   ]
  },
  {
   "cell_type": "markdown",
   "metadata": {},
   "source": [
    "#### <font color=maroon> Evaluation on the test data confirms the accuracy is `80.8%`. It's better than the VGG-5 only model.</font> "
   ]
  },
  {
   "cell_type": "markdown",
   "metadata": {},
   "source": [
    "### Predicted target output, Y (Cat or Dog)"
   ]
  },
  {
   "cell_type": "code",
   "execution_count": 50,
   "metadata": {},
   "outputs": [
    {
     "data": {
      "text/plain": [
       "(array([0.99994653], dtype=float32), array([1.], dtype=float32))"
      ]
     },
     "execution_count": 50,
     "metadata": {},
     "output_type": "execute_result"
    }
   ],
   "source": [
    "Y_pred = np.rint(y_pred)    # Binary decision on the image. 1 = Dog, 0 = Cat\n",
    "\n",
    "y_pred[0], Y_pred[0]"
   ]
  },
  {
   "cell_type": "code",
   "execution_count": null,
   "metadata": {},
   "outputs": [],
   "source": []
  }
 ],
 "metadata": {
  "kernelspec": {
   "display_name": "Python 3",
   "language": "python",
   "name": "python3"
  },
  "language_info": {
   "codemirror_mode": {
    "name": "ipython",
    "version": 3
   },
   "file_extension": ".py",
   "mimetype": "text/x-python",
   "name": "python",
   "nbconvert_exporter": "python",
   "pygments_lexer": "ipython3",
   "version": "3.8.8"
  }
 },
 "nbformat": 4,
 "nbformat_minor": 4
}
