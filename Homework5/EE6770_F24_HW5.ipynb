{
 "cells": [
  {
   "cell_type": "markdown",
   "metadata": {},
   "source": [
    "# <center>EE6770 Fall 2024 Homework 5: Cats and Dogs Classifier</center>"
   ]
  },
  {
   "cell_type": "markdown",
   "metadata": {},
   "source": [
    "1. __Write comments__ in the code to explain your thoughts.\n",
    "2. __Important: Execute the codes and show the results__. \n",
    "3. __Do your own work.__ \n",
    "\n",
    "### Submission:\n",
    " * __Submit this notebook file and the pdf version__ - remember to add your name in the filename.\n",
    " * Deadline: 11:59 pm, 10/28 (Monday)"
   ]
  },
  {
   "cell_type": "markdown",
   "metadata": {},
   "source": [
    "## Assignment Objectives:\n",
    "\n",
    "### In this assignment, you will develop a CNN model for the cat-and-dog classifer. \n",
    "#### You will create `at least two models`, applying the various techniques we discussed for improving the performance. \n",
    "\n",
    "1. Deeper Conv layers and/or FC layers\n",
    "2. Image augmentation\n",
    "3. Transfer learning\n",
    "4. Regularization: L1/L2, Batch Normalization, Dropout, Max Norm\n",
    "5. Increasing image size\n",
    "6. Increasing size of the train/validation/test dataset\n",
    "\n",
    "* You will compare the performance of your models with the baseline VGG-5 model that we discussed in class.\n",
    "* <font color=red>Image size is limited to 128-by-128 or smaller </font>\n",
    "* <font color=red>Performance requirement: the accuracy on the test data needs to be better than 87.5% for at least one of your models </font>"
   ]
  },
  {
   "cell_type": "markdown",
   "metadata": {},
   "source": [
    "### Cats & Dogs Dataset\n",
    "\n",
    "* #### You are given a zip file, `train.zip`, that contains 25,000 labelled images of cats and dogs (12,500 each) \n",
    "* #### You will select a subset of $N$ image files from the dataset and store them in the following sub-directory structure, where $N$ can be anywhere between 10,000 to 25,000.\n",
    "* #### The train-validation-test data split is 60%-15%-25%.\n",
    "<img src=\"./images/train_test_dir.png\" alt=\"Drawing\" style=\"width: 250px;\"/> "
   ]
  },
  {
   "cell_type": "markdown",
   "metadata": {},
   "source": [
    "### Load tool modules"
   ]
  },
  {
   "cell_type": "code",
   "execution_count": 203,
   "metadata": {},
   "outputs": [],
   "source": [
    "import tensorflow as tf\n",
    "from tensorflow import keras\n",
    "from keras import layers, models"
   ]
  },
  {
   "cell_type": "markdown",
   "metadata": {},
   "source": [
    "### Load CNN models"
   ]
  },
  {
   "cell_type": "code",
   "execution_count": null,
   "metadata": {},
   "outputs": [],
   "source": []
  },
  {
   "cell_type": "markdown",
   "metadata": {},
   "source": [
    "### Load the image processing tools "
   ]
  },
  {
   "cell_type": "code",
   "execution_count": null,
   "metadata": {},
   "outputs": [],
   "source": []
  },
  {
   "cell_type": "markdown",
   "metadata": {},
   "source": [
    "### Load and Process the dataset\n",
    "__Create the subdirectory structures per the requirement.__"
   ]
  },
  {
   "cell_type": "code",
   "execution_count": null,
   "metadata": {},
   "outputs": [],
   "source": []
  },
  {
   "cell_type": "markdown",
   "metadata": {},
   "source": [
    "### Display 2 input images: one for dog, and one for cat "
   ]
  },
  {
   "cell_type": "code",
   "execution_count": null,
   "metadata": {},
   "outputs": [],
   "source": []
  },
  {
   "cell_type": "markdown",
   "metadata": {},
   "source": [
    "# <font color=blue>Build CNN Model One</font>"
   ]
  },
  {
   "cell_type": "markdown",
   "metadata": {},
   "source": [
    "## <font color=green>Define the CNN model</font> \n",
    "\n",
    "__Use CONV, POOL and FC layers to construct your CNN model. You can also load pre-trained model, if transfer learning is used. You will train and test the model after this step.__"
   ]
  },
  {
   "cell_type": "code",
   "execution_count": null,
   "metadata": {},
   "outputs": [],
   "source": [
    "\n"
   ]
  },
  {
   "cell_type": "markdown",
   "metadata": {},
   "source": [
    "### Print the model summary that shows the output shape and # of parameters for each layer."
   ]
  },
  {
   "cell_type": "code",
   "execution_count": null,
   "metadata": {},
   "outputs": [],
   "source": []
  },
  {
   "cell_type": "markdown",
   "metadata": {},
   "source": [
    "### <font color=red>Question: What are the total number of parameters for the model?</font>"
   ]
  },
  {
   "cell_type": "code",
   "execution_count": null,
   "metadata": {},
   "outputs": [],
   "source": []
  },
  {
   "cell_type": "markdown",
   "metadata": {},
   "source": [
    "## <font color=green>Train the CNN Model</font>\n",
    "\n",
    "__Note: Display the history when running model.fit( )__"
   ]
  },
  {
   "cell_type": "code",
   "execution_count": null,
   "metadata": {},
   "outputs": [],
   "source": []
  },
  {
   "cell_type": "markdown",
   "metadata": {},
   "source": [
    "### <font color=red>Question: What is the estimated total model training time?</font>"
   ]
  },
  {
   "cell_type": "code",
   "execution_count": null,
   "metadata": {},
   "outputs": [],
   "source": []
  },
  {
   "cell_type": "markdown",
   "metadata": {},
   "source": [
    "### Compare Loss and Accuracy Performance for train and validation data\n",
    "\n",
    "#### Plot the loss data, for both train and validation data"
   ]
  },
  {
   "cell_type": "code",
   "execution_count": null,
   "metadata": {},
   "outputs": [],
   "source": []
  },
  {
   "cell_type": "markdown",
   "metadata": {},
   "source": [
    "#### Plot the accuracy data, for both train and validation data"
   ]
  },
  {
   "cell_type": "code",
   "execution_count": null,
   "metadata": {},
   "outputs": [],
   "source": []
  },
  {
   "cell_type": "markdown",
   "metadata": {},
   "source": [
    "## <font color=green>Test the CNN Model</font>\n",
    "__Note: Display the history when running model.evaluate( )__"
   ]
  },
  {
   "cell_type": "code",
   "execution_count": null,
   "metadata": {},
   "outputs": [],
   "source": [
    "\n"
   ]
  },
  {
   "cell_type": "markdown",
   "metadata": {},
   "source": [
    "### <font color=red>Question: What is the estimated inference (testing) time on test dataset?</font>"
   ]
  },
  {
   "cell_type": "markdown",
   "metadata": {},
   "source": [
    "### Print the final loss and accuracy of the test data"
   ]
  },
  {
   "cell_type": "code",
   "execution_count": null,
   "metadata": {},
   "outputs": [],
   "source": []
  },
  {
   "cell_type": "markdown",
   "metadata": {},
   "source": [
    "### Save the CNN model parameters"
   ]
  },
  {
   "cell_type": "code",
   "execution_count": null,
   "metadata": {},
   "outputs": [],
   "source": []
  },
  {
   "cell_type": "markdown",
   "metadata": {},
   "source": [
    "# <font color=blue>Build CNN Model Two</font>\n",
    "\n",
    "__For your second and subsequent models, follow the same set of instructions provided for Model One__"
   ]
  },
  {
   "cell_type": "code",
   "execution_count": null,
   "metadata": {},
   "outputs": [],
   "source": []
  },
  {
   "cell_type": "markdown",
   "metadata": {},
   "source": [
    "## <font color=green>Conclusion</font>\n",
    "\n",
    "### You will fill out information in this table:\n",
    "| Model              | Accuracy | Number of Parameters | Training Time | Inference Speed |\n",
    "|-------------------- |----------|-----------------------|--------------- |------------------|\n",
    "| Baseline VGG-5     |          |                       |                |                  |\n",
    "| Model One           |          |                       |                |                  |\n",
    "| Model Two           |          |                       |                |                  |\n",
    "| Model Three         |          |                       |                |                  |\n",
    "\n",
    "\n",
    "__Please add comments on what you tried and observed while working on the assignment.__"
   ]
  },
  {
   "cell_type": "code",
   "execution_count": null,
   "metadata": {},
   "outputs": [],
   "source": []
  },
  {
   "cell_type": "markdown",
   "metadata": {},
   "source": [
    "## <center><font color=maroon>Remember to turn in both the notebook and the pdf version.</font></center>"
   ]
  }
 ],
 "metadata": {
  "kernelspec": {
   "display_name": "tf",
   "language": "python",
   "name": "python3"
  },
  "language_info": {
   "codemirror_mode": {
    "name": "ipython",
    "version": 3
   },
   "file_extension": ".py",
   "mimetype": "text/x-python",
   "name": "python",
   "nbconvert_exporter": "python",
   "pygments_lexer": "ipython3",
   "version": "3.10.13"
  }
 },
 "nbformat": 4,
 "nbformat_minor": 4
}
