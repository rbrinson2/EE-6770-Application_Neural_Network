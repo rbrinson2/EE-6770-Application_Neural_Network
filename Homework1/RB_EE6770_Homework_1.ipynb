{
 "cells": [
  {
   "cell_type": "markdown",
   "metadata": {},
   "source": [
    "<center><h1> EE 6770 Fall 2024: Homework 1</h1></center>"
   ]
  },
  {
   "cell_type": "markdown",
   "metadata": {},
   "source": [
    "1. Write your answer in the cell provided under each question.\n",
    "2. __Write comments__ in the code to explain your thoughts.\n",
    "3. __Show your execution result__. \n",
    "4. __Do your own work.__ \n",
    "\n",
    "### Submission:\n",
    " * __Submit this notebook file and the pdf version__ - remember to add your name in the filename.\n",
    " * Deadline: 11:59 pm, 8/25 (Sunday)"
   ]
  },
  {
   "cell_type": "markdown",
   "metadata": {},
   "source": [
    "#### First, check the version of your Python."
   ]
  },
  {
   "cell_type": "code",
   "execution_count": null,
   "metadata": {},
   "outputs": [],
   "source": [
    "## Your code here.\n",
    "\n"
   ]
  },
  {
   "cell_type": "markdown",
   "metadata": {},
   "source": [
    "### Q1: Fibonacci Sequence (30 Points)"
   ]
  },
  {
   "cell_type": "markdown",
   "metadata": {},
   "source": [
    "### Q1.1 Write a Python function named `Fibonacci` to generate a Fibonacci sequence of length N. "
   ]
  },
  {
   "cell_type": "markdown",
   "metadata": {},
   "source": [
    "**Recall that the recursive algorithm is:**\n",
    "    \n",
    "    F(0) = 0\n",
    "    F(1) = 1\n",
    "    F(n) = F(n-1) + F(n-2), for n>=2\n",
    "    \n",
    "**To show your result, assume N = 20**"
   ]
  },
  {
   "cell_type": "code",
   "execution_count": null,
   "metadata": {},
   "outputs": [],
   "source": [
    "## Your code here.\n",
    "\n"
   ]
  },
  {
   "cell_type": "markdown",
   "metadata": {},
   "source": [
    "### Q1.2 Write a function named `isFibonacci` to test if an input integer N is a Fibonacci number or not."
   ]
  },
  {
   "cell_type": "markdown",
   "metadata": {},
   "source": [
    "__You can search the web and find out the criteria, or, you can generate Fibonacci numbers until the generated number is greater than or equal to N.__\n",
    "\n",
    "__To show your result, try those two numbers: N = 5702887 and N = 74319__"
   ]
  },
  {
   "cell_type": "code",
   "execution_count": null,
   "metadata": {},
   "outputs": [],
   "source": [
    "## Your code here.\n",
    "\n"
   ]
  },
  {
   "cell_type": "markdown",
   "metadata": {},
   "source": [
    "### Q2: (10 Points): With the following list of integers, remove all occurrences of 0 from the list.\n",
    "\n",
    "    my_list = [4, 0, 20, 0, 5, 20, -100, 0, 20]\n",
    "\n",
    "    Hint: you can use del(), remove(), pop() for this purpose."
   ]
  },
  {
   "cell_type": "code",
   "execution_count": null,
   "metadata": {},
   "outputs": [],
   "source": [
    "### Your code here.\n",
    "\n"
   ]
  },
  {
   "cell_type": "markdown",
   "metadata": {},
   "source": [
    "### Q3: Happy Twosday! (30 Points)\n",
    "\n",
    "February 22, 2022, was a rare day that all five digits of the date, 22222, are twos. The string is both __palindrome__ and __symmetric__. Recall that \n",
    "   - A sequence is said to be `palindrome` if one half of the string is the reverse of the other half, e.g., \"madam\".\n",
    "   - A sequence is said to be `symmetrical` if both halves of the string are the same, e.g., \"abcabc\".\n",
    "   - If the length of a sequence is an odd number, the middle element in the sequence is not considered. \n",
    "\n",
    "### Q3.1 Write a Python program to confirm that February 22 (22222) is indeed palindrome and symmetrical."
   ]
  },
  {
   "cell_type": "code",
   "execution_count": null,
   "metadata": {},
   "outputs": [],
   "source": [
    "## Your code here.\n",
    "\n"
   ]
  },
  {
   "cell_type": "markdown",
   "metadata": {},
   "source": [
    "### Q3.2 There are more dates in February 2022 that are also both palindrome and symmetric (such as 22122). \n",
    "#### Write a Python loop to find out all the other dates."
   ]
  },
  {
   "cell_type": "code",
   "execution_count": null,
   "metadata": {},
   "outputs": [],
   "source": [
    "## Your code here.\n",
    "\n"
   ]
  },
  {
   "cell_type": "markdown",
   "metadata": {},
   "source": [
    "### Q4: Python Class Practice (25 Points)\n",
    "\n",
    "**A Python class called `ShoppingList` is created to perform some simple tasks:**\n",
    "1. Add items and prices to the list\n",
    "2. Calculate pre-tax sub-total\n",
    "3. Calculate after-tax total\n",
    "\n",
    "**Here is a partially completed `ShoppingList(dict)`, where the input is a dictionary.**"
   ]
  },
  {
   "cell_type": "code",
   "execution_count": null,
   "metadata": {},
   "outputs": [],
   "source": [
    "class ShoppingList(dict):\n",
    "    \n",
    "    tax_rate = 6%\n",
    "    \n",
    "    def __init__(self):\n",
    "        self = {}          # init the shopping list\n",
    "    \n",
    "    def addToList(self, item, price):\n",
    "        self.update({item: price})    # Add item with its price and number of items bought to the shopping list\n",
    "        \n",
    "    \n",
    "    def Subtotal(self):    # Add your code for pre-tax total\n",
    "\n",
    "        \n",
    "        \n",
    "    def AfterTax_Total(self):   # Add your code for after-tax total\n",
    "\n",
    "        "
   ]
  },
  {
   "cell_type": "markdown",
   "metadata": {},
   "source": [
    "#### Here is Dr. Yiin's shopping list: \n",
    "    {'Chia Seeds': (2.5, 2), 'avocado': (1.25, 3), 'potato': (3, 3), 'beer':(9.99, 1)}, where (a,b) = (unit price, number of items bought)\n",
    "\n",
    "#### Please complete the two missing methods, `Subtotal` and `AfterTax_Total` and answer the following two questions:\n",
    "#### 1. Calculate the subtotal and after-tax total of Dr. Yiin's shopping list (show two decimal numbers).\n",
    "#### 2. The tax rate in Alpharetta is 7.75%, instead of 6%. Please revise the code, however, without modifying the class variable \"tax_rate\"."
   ]
  },
  {
   "cell_type": "code",
   "execution_count": null,
   "metadata": {},
   "outputs": [],
   "source": [
    "## Your code here\n",
    "\n"
   ]
  }
 ],
 "metadata": {
  "kernelspec": {
   "display_name": "Python 3 (ipykernel)",
   "language": "python",
   "name": "python3"
  },
  "language_info": {
   "codemirror_mode": {
    "name": "ipython",
    "version": 3
   },
   "file_extension": ".py",
   "mimetype": "text/x-python",
   "name": "python",
   "nbconvert_exporter": "python",
   "pygments_lexer": "ipython3",
   "version": "3.8.8"
  }
 },
 "nbformat": 4,
 "nbformat_minor": 4
}
