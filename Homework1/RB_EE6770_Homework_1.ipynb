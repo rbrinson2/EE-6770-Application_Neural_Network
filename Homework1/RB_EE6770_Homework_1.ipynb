{
 "cells": [
  {
   "cell_type": "markdown",
   "metadata": {},
   "source": [
    "<center><h1> EE 6770 Fall 2024: Homework 1</h1></center>"
   ]
  },
  {
   "cell_type": "markdown",
   "metadata": {},
   "source": [
    "1. Write your answer in the cell provided under each question.\n",
    "2. __Write comments__ in the code to explain your thoughts.\n",
    "3. __Show your execution result__. \n",
    "4. __Do your own work.__ \n",
    "\n",
    "### Submission:\n",
    " * __Submit this notebook file and the pdf version__ - remember to add your name in the filename.\n",
    " * Deadline: 11:59 pm, 8/25 (Sunday)"
   ]
  },
  {
   "cell_type": "markdown",
   "metadata": {},
   "source": [
    "#### First, check the version of your Python."
   ]
  },
  {
   "cell_type": "code",
   "execution_count": 4,
   "metadata": {},
   "outputs": [
    {
     "name": "stdout",
     "output_type": "stream",
     "text": [
      "3.11.9 | packaged by Anaconda, Inc. | (main, Apr 19 2024, 16:40:41) [MSC v.1916 64 bit (AMD64)]\n"
     ]
    }
   ],
   "source": [
    "## Your code here.\n",
    "import sys\n",
    "print(sys.version)\n"
   ]
  },
  {
   "cell_type": "markdown",
   "metadata": {},
   "source": [
    "### Q1: Fibonacci Sequence (30 Points)"
   ]
  },
  {
   "cell_type": "markdown",
   "metadata": {},
   "source": [
    "### Q1.1 Write a Python function named `Fibonacci` to generate a Fibonacci sequence of length N. "
   ]
  },
  {
   "cell_type": "markdown",
   "metadata": {},
   "source": [
    "**Recall that the recursive algorithm is:**\n",
    "    \n",
    "    F(0) = 0\n",
    "    F(1) = 1\n",
    "    F(n) = F(n-1) + F(n-2), for n>=2\n",
    "    \n",
    "**To show your result, assume N = 20**"
   ]
  },
  {
   "cell_type": "code",
   "execution_count": 21,
   "metadata": {},
   "outputs": [
    {
     "name": "stdout",
     "output_type": "stream",
     "text": [
      "6765\n"
     ]
    }
   ],
   "source": [
    "## Your code here.\n",
    "def Fibonacci(N):\n",
    "    accum = 0\n",
    "    a = 1\n",
    "    b = 2\n",
    "    for i in range(0, N):\n",
    "        if i == 0:\n",
    "            accum = 0\n",
    "        elif i == 1:\n",
    "            accum += 1\n",
    "        elif i == 2:\n",
    "            accum += 2\n",
    "        else:\n",
    "            accum = b + a\n",
    "            a = b\n",
    "            b = accum\n",
    "    return accum\n",
    "print(Fibonacci(20))"
   ]
  },
  {
   "cell_type": "markdown",
   "metadata": {},
   "source": [
    "### Q1.2 Write a function named `isFibonacci` to test if an input integer N is a Fibonacci number or not."
   ]
  },
  {
   "cell_type": "markdown",
   "metadata": {},
   "source": [
    "__You can search the web and find out the criteria, or, you can generate Fibonacci numbers until the generated number is greater than or equal to N.__\n",
    "\n",
    "__To show your result, try those two numbers: N = 5702887 and N = 74319__"
   ]
  },
  {
   "cell_type": "code",
   "execution_count": 79,
   "metadata": {},
   "outputs": [
    {
     "name": "stdout",
     "output_type": "stream",
     "text": [
      "True\n",
      "False\n",
      "True\n"
     ]
    }
   ],
   "source": [
    "## Your code here.\n",
    "def isFibonacci(N):\n",
    "    if (N == 0):\n",
    "        return True\n",
    "    else:\n",
    "        a1 = 5 * (N**2) + 4\n",
    "        a2 = 5 * (N**2) - 4\n",
    "        b1 = int(a1**.5) \n",
    "        b2 = int(a2**.5)\n",
    "        \n",
    "        if (b1**2 == a1) or (b2**2 == a2):\n",
    "            return True\n",
    "        else:\n",
    "            return False\n",
    "\n",
    "print(isFibonacci(74319))\n",
    "print(isFibonacci(5702887))\n"
   ]
  },
  {
   "cell_type": "markdown",
   "metadata": {},
   "source": [
    "### Q2: (10 Points): With the following list of integers, remove all occurrences of 0 from the list.\n",
    "\n",
    "    my_list = [4, 0, 20, 0, 5, 20, -100, 0, 20]\n",
    "\n",
    "    Hint: you can use del(), remove(), pop() for this purpose."
   ]
  },
  {
   "cell_type": "code",
   "execution_count": 86,
   "metadata": {},
   "outputs": [
    {
     "name": "stdout",
     "output_type": "stream",
     "text": [
      "[4, 20, 5, 20, -100, 20]\n"
     ]
    }
   ],
   "source": [
    "### Your code here.\n",
    "\n",
    "my_list = [4, 0, 20, 0, 5, 20, -100, 0, 20]\n",
    "for i in my_list:\n",
    "    if (i == 0):\n",
    "        my_list.pop(my_list.index(i))\n",
    "print(my_list)"
   ]
  },
  {
   "cell_type": "markdown",
   "metadata": {},
   "source": [
    "### Q3: Happy Twosday! (30 Points)\n",
    "\n",
    "February 22, 2022, was a rare day that all five digits of the date, 22222, are twos. The string is both __palindrome__ and __symmetric__. Recall that \n",
    "   - A sequence is said to be `palindrome` if one half of the string is the reverse of the other half, e.g., \"madam\".\n",
    "   - A sequence is said to be `symmetrical` if both halves of the string are the same, e.g., \"abcabc\".\n",
    "   - If the length of a sequence is an odd number, the middle element in the sequence is not considered. \n",
    "\n",
    "### Q3.1 Write a Python program to confirm that February 22 (22222) is indeed palindrome and symmetrical."
   ]
  },
  {
   "cell_type": "code",
   "execution_count": 94,
   "metadata": {},
   "outputs": [
    {
     "name": "stdout",
     "output_type": "stream",
     "text": [
      "True\n"
     ]
    }
   ],
   "source": [
    "## Your code here.\n",
    "def Palindrom(N):\n",
    "    pal = str(N)\n",
    "    length = len(pal) - 1\n",
    "    for i in range(0, length):\n",
    "        a = pal[i]\n",
    "        b = pal[length - i]\n",
    "        if (a != b):\n",
    "            return False\n",
    "    return True\n",
    "\n",
    "def Symetric(N):\n",
    "    sym = str(N)\n",
    "    length = int(len(sym) / 2)\n",
    "    for i in range(0, length):\n",
    "        a = sym[0]\n",
    "\n",
    "print(Palindrom(22222))"
   ]
  },
  {
   "cell_type": "markdown",
   "metadata": {},
   "source": [
    "### Q3.2 There are more dates in February 2022 that are also both palindrome and symmetric (such as 22122). \n",
    "#### Write a Python loop to find out all the other dates."
   ]
  },
  {
   "cell_type": "code",
   "execution_count": null,
   "metadata": {},
   "outputs": [],
   "source": [
    "## Your code here.\n",
    "def Palindrom(N):\n",
    "    pal = str(N)\n",
    "    for i in range(0,4):\n",
    "        a = pal[i]\n",
    "        b = pal[4 - i]\n",
    "        if (a != b):\n",
    "            return False\n",
    "    return True\n",
    "\n",
    "for i in range(20122, 23022):\n"
   ]
  },
  {
   "cell_type": "markdown",
   "metadata": {},
   "source": [
    "### Q4: Python Class Practice (25 Points)\n",
    "\n",
    "**A Python class called `ShoppingList` is created to perform some simple tasks:**\n",
    "1. Add items and prices to the list\n",
    "2. Calculate pre-tax sub-total\n",
    "3. Calculate after-tax total\n",
    "\n",
    "**Here is a partially completed `ShoppingList(dict)`, where the input is a dictionary.**"
   ]
  },
  {
   "cell_type": "code",
   "execution_count": null,
   "metadata": {},
   "outputs": [],
   "source": [
    "class ShoppingList(dict):\n",
    "    \n",
    "    tax_rate = 6%\n",
    "    \n",
    "    def __init__(self):\n",
    "        self = {}          # init the shopping list\n",
    "    \n",
    "    def addToList(self, item, price):\n",
    "        self.update({item: price})    # Add item with its price and number of items bought to the shopping list\n",
    "        \n",
    "    \n",
    "    def Subtotal(self):    # Add your code for pre-tax total\n",
    "\n",
    "        \n",
    "        \n",
    "    def AfterTax_Total(self):   # Add your code for after-tax total\n",
    "\n",
    "        "
   ]
  },
  {
   "cell_type": "markdown",
   "metadata": {},
   "source": [
    "#### Here is Dr. Yiin's shopping list: \n",
    "    {'Chia Seeds': (2.5, 2), 'avocado': (1.25, 3), 'potato': (3, 3), 'beer':(9.99, 1)}, where (a,b) = (unit price, number of items bought)\n",
    "\n",
    "#### Please complete the two missing methods, `Subtotal` and `AfterTax_Total` and answer the following two questions:\n",
    "#### 1. Calculate the subtotal and after-tax total of Dr. Yiin's shopping list (show two decimal numbers).\n",
    "#### 2. The tax rate in Alpharetta is 7.75%, instead of 6%. Please revise the code, however, without modifying the class variable \"tax_rate\"."
   ]
  },
  {
   "cell_type": "code",
   "execution_count": null,
   "metadata": {},
   "outputs": [],
   "source": [
    "## Your code here\n",
    "\n"
   ]
  }
 ],
 "metadata": {
  "kernelspec": {
   "display_name": "Python 3 (ipykernel)",
   "language": "python",
   "name": "python3"
  },
  "language_info": {
   "codemirror_mode": {
    "name": "ipython",
    "version": 3
   },
   "file_extension": ".py",
   "mimetype": "text/x-python",
   "name": "python",
   "nbconvert_exporter": "python",
   "pygments_lexer": "ipython3",
   "version": "3.11.9"
  }
 },
 "nbformat": 4,
 "nbformat_minor": 4
}
